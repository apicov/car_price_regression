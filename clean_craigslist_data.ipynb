{
 "cells": [
  {
   "cell_type": "markdown",
   "id": "8cf0f57b-462a-4cc4-bc42-d4e81564f460",
   "metadata": {},
   "source": [
    "# Cleaning Used Cars Dataset (craigslist)\n",
    "source: https://www.kaggle.com/datasets/austinreese/craigslist-carstrucks-data?select=vehicles.csv"
   ]
  },
  {
   "cell_type": "code",
   "execution_count": null,
   "id": "3e221507",
   "metadata": {},
   "outputs": [],
   "source": [
    "import pandas as pd\n",
    "import numpy as np\n",
    "import seaborn as sns\n",
    "import matplotlib.pyplot as plt\n",
    "import plotly.graph_objects as go"
   ]
  },
  {
   "cell_type": "code",
   "execution_count": null,
   "id": "d326eb53",
   "metadata": {},
   "outputs": [],
   "source": [
    "dataset_path = './data/vehicles_craigslist.csv'\n",
    "raw_df = pd.read_csv(dataset_path)"
   ]
  },
  {
   "cell_type": "markdown",
   "id": "6024b72a-d6fe-47eb-94b0-213ba49a222d",
   "metadata": {},
   "source": [
    "### Check features stats"
   ]
  },
  {
   "cell_type": "code",
   "execution_count": null,
   "id": "6e74078c",
   "metadata": {},
   "outputs": [],
   "source": [
    "raw_df.describe(include='object')"
   ]
  },
  {
   "cell_type": "markdown",
   "id": "37e22c32-cac4-483b-9c3c-141887b6424b",
   "metadata": {},
   "source": [
    "#### Notes: \n",
    "    * some categories are unbalanced (transmission, title_status, fuel)\n",
    "    * cylinders must be converted to number"
   ]
  },
  {
   "cell_type": "code",
   "execution_count": null,
   "id": "c3582a00-589e-46dc-a2de-36fd6848d17e",
   "metadata": {},
   "outputs": [],
   "source": [
    "raw_df.describe()"
   ]
  },
  {
   "cell_type": "markdown",
   "id": "9447136c-7d98-431e-ad6c-1e72f432b6de",
   "metadata": {},
   "source": [
    "### Remove unused columns"
   ]
  },
  {
   "cell_type": "code",
   "execution_count": null,
   "id": "ccb021a9-d733-4fbc-8c28-91321c264c5c",
   "metadata": {},
   "outputs": [],
   "source": [
    "cl_df = raw_df.drop(columns=['url', 'region', \n",
    "                    'region_url', 'title_status', \n",
    "                    'VIN', 'image_url', 'description', \n",
    "                    'state', 'posting_date',\n",
    "                    'id', 'county'])"
   ]
  },
  {
   "cell_type": "markdown",
   "id": "e1173e85-8a91-44cc-a520-060eddcd1cb1",
   "metadata": {},
   "source": [
    "### Check types in dataset"
   ]
  },
  {
   "cell_type": "code",
   "execution_count": null,
   "id": "cd28040f-0b1b-43c7-9e34-58e3d664cb84",
   "metadata": {},
   "outputs": [],
   "source": [
    "cl_df.dtypes"
   ]
  },
  {
   "cell_type": "markdown",
   "id": "de953887",
   "metadata": {},
   "source": [
    "### Check outliers"
   ]
  },
  {
   "cell_type": "code",
   "execution_count": null,
   "id": "c14599a6",
   "metadata": {},
   "outputs": [],
   "source": [
    "def draw_boxplots(df):\n",
    "    # Set the style of seaborn\n",
    "    sns.set_theme(style=\"whitegrid\")\n",
    "    \n",
    "    # Select only numeric features\n",
    "    numeric_features = df.select_dtypes(include=['number']).columns\n",
    "    \n",
    "    # Determine the number of rows and columns for the grid\n",
    "    n_features = len(numeric_features)\n",
    "    n_cols = 3  # Number of columns in the grid\n",
    "    n_rows = int(np.ceil(n_features / n_cols))  # Calculate number of rows needed\n",
    "    \n",
    "    # Create a grid of boxplots\n",
    "    fig, axes = plt.subplots(n_rows, n_cols, figsize=(15, 5 * n_rows))  # Adjust the figure size as needed\n",
    "    axes = axes.flatten()  # Flatten the axes array for easy indexing\n",
    "    \n",
    "    # Loop through each numeric feature and create a boxplot\n",
    "    for i, column in enumerate(numeric_features):\n",
    "        sns.boxplot(y=df[column], ax=axes[i])\n",
    "        axes[i].set_title(column)\n",
    "    \n",
    "    # Hide any unused subplots\n",
    "    for j in range(i + 1, n_rows * n_cols):\n",
    "        fig.delaxes(axes[j])\n",
    "    \n",
    "    plt.tight_layout()  # Adjust layout to prevent overlap\n",
    "\n",
    "    \n",
    "def get_outliers_df(df):\n",
    "    # Function to create a DataFrame with all rows that contain outliers\n",
    "    outliers_df = pd.DataFrame()  # Initialize an empty DataFrame\n",
    "    \n",
    "    # Loop through each numerical feature\n",
    "    for column in df.select_dtypes(include=['number']).columns:\n",
    "        # Calculate Q1 (25th percentile) and Q3 (75th percentile)\n",
    "        Q1 = df[column].quantile(0.25)\n",
    "        Q3 = df[column].quantile(0.75)\n",
    "        \n",
    "        # Calculate IQR\n",
    "        IQR = Q3 - Q1\n",
    "        \n",
    "        # Determine lower and upper bounds\n",
    "        lower_bound = Q1 - 1.5 * IQR\n",
    "        upper_bound = Q3 + 1.5 * IQR\n",
    "        \n",
    "        # Identify outliers\n",
    "        outliers = df[(df[column] < lower_bound) | (df[column] > upper_bound)]\n",
    "        \n",
    "        # Append outliers to the outliers_df DataFrame\n",
    "        outliers_df = pd.concat([outliers_df, outliers], ignore_index=True)\n",
    "    \n",
    "    # Drop duplicates if any row is an outlier for multiple columns\n",
    "    outliers_df = outliers_df.drop_duplicates()\n",
    "    \n",
    "    return outliers_df\n",
    "\n",
    "\n",
    "# Function to count outliers based on IQR\n",
    "def count_outliers(df):\n",
    "    outlier_counts = {}\n",
    "    \n",
    "    # Loop through each numerical feature\n",
    "    for column in df.select_dtypes(include=['number']).columns:\n",
    "        # Calculate Q1 (25th percentile) and Q3 (75th percentile)\n",
    "        Q1 = df[column].quantile(0.25)\n",
    "        Q3 = df[column].quantile(0.75)\n",
    "        \n",
    "        # Calculate IQR\n",
    "        IQR = Q3 - Q1\n",
    "        \n",
    "        # Determine lower and upper bounds\n",
    "        lower_bound = Q1 - 1.5 * IQR\n",
    "        upper_bound = Q3 + 1.5 * IQR\n",
    "        \n",
    "        # Count outliers\n",
    "        outlier_count = df[(df[column] < lower_bound) | (df[column] > upper_bound)].shape[0]\n",
    "        outlier_counts[column] = outlier_count\n",
    "    \n",
    "    return outlier_counts\n",
    "\n",
    "# Count outliers\n",
    "outliers = count_outliers(cl_df)\n",
    "\n",
    " \n",
    "def remove_outliers(df):\n",
    "    # Function to remove outliers based on interquartile range (IQR) method\n",
    "    # Create a copy of the DataFrame to avoid modifying the original\n",
    "    df_cleaned = df.copy()\n",
    "    \n",
    "    # Loop through each numerical feature\n",
    "    for column in df_cleaned.select_dtypes(include=['number']).columns:\n",
    "        # Calculate Q1 (25th percentile) and Q3 (75th percentile)\n",
    "        Q1 = df_cleaned[column].quantile(0.25)\n",
    "        Q3 = df_cleaned[column].quantile(0.75)\n",
    "        \n",
    "        # Calculate IQR\n",
    "        IQR = Q3 - Q1\n",
    "        \n",
    "        # Determine lower and upper bounds\n",
    "        lower_bound = Q1 - 1.5 * IQR\n",
    "        upper_bound = Q3 + 1.5 * IQR\n",
    "        \n",
    "        # Filter the DataFrame to remove outliers\n",
    "        df_cleaned = df_cleaned[(df_cleaned[column] >= lower_bound) & (df_cleaned[column] <= upper_bound)]\n",
    "    \n",
    "    return df_cleaned\n",
    "\n",
    "# Display the number of outliers for each feature\n",
    "print(\"Number of outliers in each feature:\")\n",
    "for feature, count in outliers.items():\n",
    "    print(f\"{feature}: {count}\")\n",
    "\n",
    "\n",
    "def display_dataframe(df):\n",
    "    # Create a Plotly table\n",
    "    fig = go.Figure(data=[go.Table(\n",
    "        header=dict(values=list(df.columns),\n",
    "                    fill_color='paleturquoise',\n",
    "                    align='left'),\n",
    "        cells=dict(values=[df[col] for col in df.columns],\n",
    "                fill_color='lavender',\n",
    "                align='left'))\n",
    "    ])\n",
    "    # Update layout and show the figure\n",
    "    fig.update_layout(title='DataFrame')\n",
    "    fig.show();"
   ]
  },
  {
   "cell_type": "code",
   "execution_count": null,
   "id": "05d334cf",
   "metadata": {},
   "outputs": [],
   "source": [
    "print(cl_df.shape)"
   ]
  },
  {
   "cell_type": "code",
   "execution_count": null,
   "id": "5d821b5a",
   "metadata": {},
   "outputs": [],
   "source": [
    "draw_boxplots(cl_df)"
   ]
  },
  {
   "cell_type": "code",
   "execution_count": null,
   "id": "e9e2795e",
   "metadata": {},
   "outputs": [],
   "source": [
    "outliers_df = get_outliers_df(cl_df)\n",
    "display_dataframe(outliers_df)"
   ]
  },
  {
   "cell_type": "markdown",
   "id": "7d99fe82",
   "metadata": {},
   "source": [
    "### Remove Outliers"
   ]
  },
  {
   "cell_type": "code",
   "execution_count": null,
   "id": "9540257d",
   "metadata": {},
   "outputs": [],
   "source": [
    "cl_df = remove_outliers(cl_df)\n",
    "print(cl_df.shape)\n",
    "draw_boxplots(cl_df)"
   ]
  },
  {
   "cell_type": "markdown",
   "id": "328ad66d",
   "metadata": {},
   "source": [
    "### Check NaNs"
   ]
  },
  {
   "cell_type": "code",
   "execution_count": null,
   "id": "e402c1b3",
   "metadata": {},
   "outputs": [],
   "source": [
    "cl_df.isna().sum().sort_values(ascending=False)"
   ]
  },
  {
   "cell_type": "markdown",
   "id": "3c8d2755",
   "metadata": {},
   "source": [
    "### Add unknown values for missing data"
   ]
  },
  {
   "cell_type": "code",
   "execution_count": null,
   "id": "8d36dfe4",
   "metadata": {},
   "outputs": [],
   "source": [
    "\n",
    "def add_unknown_values(df):\n",
    "    # Create a copy of the DataFrame to avoid modifying the original\n",
    "    df_filled = df.copy()\n",
    "    \n",
    "    # Fill missing values with 'unknown' for categorical features\n",
    "    for column in df_filled.select_dtypes(include=['object', 'category']).columns:\n",
    "        df_filled[column] = df_filled[column].fillna('unknown')\n",
    "    \n",
    "    return df_filled\n",
    "\n",
    "df_filled = add_unknown_values(cl_df)\n",
    "print(df_filled.isna().sum().sort_values(ascending=False))"
   ]
  },
  {
   "cell_type": "markdown",
   "id": "075c3832-aaa2-4b3e-bfa0-54a276084038",
   "metadata": {},
   "source": [
    "### Show counts of categorical variables"
   ]
  },
  {
   "cell_type": "code",
   "execution_count": null,
   "id": "be9ce269",
   "metadata": {},
   "outputs": [],
   "source": [
    "def plot_category_counts(df):\n",
    "    categorical = df.select_dtypes(include=['object', 'category']).columns\n",
    "    # Filter out the 'model' column\n",
    "    categorical = [col for col in categorical if col != 'model']\n",
    "    \n",
    "    n_cols = 2  # Number of columns\n",
    "    n_rows = (len(categorical) + n_cols - 1) // n_cols  # Calculate number of rows needed\n",
    "\n",
    "    fig, axes = plt.subplots(n_rows, n_cols, figsize=(8 * n_cols, 6 * n_rows))  # Create a grid of subplots\n",
    "    axes = axes.flatten()  # Flatten the axes array for easy indexing\n",
    "\n",
    "    for i, col in enumerate(categorical):\n",
    "        counts = df[col].value_counts().sort_values(ascending=False)\n",
    "        sns.countplot(data=df, y=col, palette='viridis', hue=col, legend=False, order=counts.index, ax=axes[i])\n",
    "        axes[i].set_title(f'Counts of Each Category in {col}')\n",
    "        axes[i].set_ylabel('Category')\n",
    "        axes[i].set_xlabel('Count')\n",
    "\n",
    "    # Hide any unused subplots\n",
    "    for j in range(i + 1, len(axes)):\n",
    "        axes[j].axis('off')\n",
    "\n",
    "    plt.tight_layout()\n",
    "    plt.show()\n"
   ]
  },
  {
   "cell_type": "code",
   "execution_count": null,
   "id": "1250f818",
   "metadata": {},
   "outputs": [],
   "source": [
    "plot_category_counts(df_filled)"
   ]
  },
  {
   "cell_type": "code",
   "execution_count": null,
   "id": "bbd0519c-380d-4674-a0ff-55ca6b0632cf",
   "metadata": {},
   "outputs": [],
   "source": [
    "# Show counts for all categorical features\n",
    "for col in cl_df.select_dtypes(include=['category', 'object']).columns:\n",
    "    print(f\"Counts for {col}:\")\n",
    "    print(cl_df[col].value_counts())\n",
    "    print()"
   ]
  },
  {
   "cell_type": "code",
   "execution_count": null,
   "id": "930d6fec",
   "metadata": {},
   "outputs": [],
   "source": [
    "### convert color features green, brown, custom, orange, yellow, and purple to 'other'\n",
    "def convert_color_features(df):\n",
    "    # Create a copy of the DataFrame to avoid modifying the original\n",
    "    df_converted = df.copy()\n",
    "    \n",
    "    # Define the colors to convert\n",
    "    colors_to_convert = ['green', 'brown', 'custom', 'orange', 'yellow', 'purple']\n",
    "    \n",
    "    # Convert specified colors to 'other'\n",
    "    for color in colors_to_convert:\n",
    "        df_converted.loc[df_converted['paint_color'] == color, 'paint_color'] = 'other'\n",
    "    \n",
    "    return df_converted\n",
    "\n",
    "df_filled = convert_color_features(df_filled)"
   ]
  },
  {
   "cell_type": "markdown",
   "id": "833ffcf0",
   "metadata": {},
   "source": [
    "#### Drop size column because the majority of values are 'unknown"
   ]
  },
  {
   "cell_type": "code",
   "execution_count": null,
   "id": "1c91b5f5",
   "metadata": {},
   "outputs": [],
   "source": [
    "\n",
    "df_filled = df_filled.drop(columns=['size'])"
   ]
  },
  {
   "cell_type": "markdown",
   "id": "fe558aee",
   "metadata": {},
   "source": [
    "#### Remove rows with manufacturer harley-davidson (motorcycles)\n"
   ]
  },
  {
   "cell_type": "code",
   "execution_count": null,
   "id": "d5ef9b54",
   "metadata": {},
   "outputs": [],
   "source": [
    "df_filled = df_filled[df_filled['manufacturer'] != 'harley-davidson']"
   ]
  },
  {
   "cell_type": "code",
   "execution_count": null,
   "id": "7e396b65",
   "metadata": {},
   "outputs": [],
   "source": []
  },
  {
   "cell_type": "markdown",
   "id": "b1e59d0b-9c6c-43cd-bbe6-39bd4281e0ad",
   "metadata": {},
   "source": [
    "## Create first random forest model to check feature importance"
   ]
  },
  {
   "cell_type": "code",
   "execution_count": null,
   "id": "0ce34e60-aac4-48b5-a6b7-6bc2e7c7d0e2",
   "metadata": {},
   "outputs": [],
   "source": [
    "from sklearn.ensemble import RandomForestRegressor\n",
    "from sklearn.model_selection import train_test_split\n",
    "from sklearn.metrics import mean_absolute_error, mean_squared_error"
   ]
  },
  {
   "cell_type": "code",
   "execution_count": null,
   "id": "8455a3e3",
   "metadata": {},
   "outputs": [],
   "source": [
    "# First fast approach\n",
    "print(len(df_filled['model'].unique()))\n",
    "\n",
    "# Remove model column (there are too many different car models)\n",
    "df_filled = df_filled.drop(columns=['model'])"
   ]
  },
  {
   "cell_type": "markdown",
   "id": "b21aeb53",
   "metadata": {},
   "source": [
    "#### Label encoding for condition and cylinders"
   ]
  },
  {
   "cell_type": "code",
   "execution_count": null,
   "id": "71ab19fb",
   "metadata": {},
   "outputs": [],
   "source": [
    "\n",
    "condition_mapping = {\n",
    "    'unknown': 0,\n",
    "    'salvage': 1,\n",
    "    'fair': 2,\n",
    "    'good': 3,\n",
    "    'excellent': 4,\n",
    "    'like new': 5,\n",
    "    'new': 6\n",
    "}\n",
    "cylinders_mapping = {\n",
    "    'unknown': 0,\n",
    "    'other': 1,\n",
    "    '3 cylinders': 2,\n",
    "    '4 cylinders': 3,\n",
    "    '5 cylinders': 4,\n",
    "    '6 cylinders': 5,\n",
    "    '8 cylinders': 6,\n",
    "    '10 cylinders': 7,\n",
    "    '12 cylinders': 8\n",
    "}\n",
    "\n",
    "df_filled['condition_encoded'] = df_filled['condition'].map(condition_mapping)\n",
    "df_filled['cylinders_encoded'] = df_filled['cylinders'].map(cylinders_mapping)"
   ]
  },
  {
   "cell_type": "markdown",
   "id": "c7776926",
   "metadata": {},
   "source": [
    "#### Label encoding for manufacturer "
   ]
  },
  {
   "cell_type": "code",
   "execution_count": null,
   "id": "11602314",
   "metadata": {},
   "outputs": [],
   "source": [
    "\n",
    "from sklearn.preprocessing import LabelEncoder \n",
    "# Create a LabelEncoder instance\n",
    "le = LabelEncoder()\n",
    "# Fit and transform the 'manufacturer' column\n",
    "df_filled['manufacturer_encoded'] = le.fit_transform(df_filled['manufacturer'])"
   ]
  },
  {
   "cell_type": "code",
   "execution_count": null,
   "id": "3a87219c",
   "metadata": {},
   "outputs": [],
   "source": [
    "display_dataframe(df_filled)"
   ]
  },
  {
   "cell_type": "code",
   "execution_count": null,
   "id": "64de9ab0",
   "metadata": {},
   "outputs": [],
   "source": [
    "# Remove cylinders, condition and manufacturer columns\n",
    "df_filled = df_filled.drop(columns=['cylinders', 'condition', 'manufacturer'])"
   ]
  },
  {
   "cell_type": "code",
   "execution_count": null,
   "id": "fc45641e",
   "metadata": {},
   "outputs": [],
   "source": [
    "df_filled.dtypes"
   ]
  },
  {
   "cell_type": "markdown",
   "id": "3195dac1-c0b8-4b65-a9af-0c42b2f4382c",
   "metadata": {},
   "source": [
    "### One hot encoding for the other categorical features"
   ]
  },
  {
   "cell_type": "code",
   "execution_count": null,
   "id": "33930bbf-aad0-4e41-84af-2153f002f4cc",
   "metadata": {},
   "outputs": [],
   "source": [
    "# Identify categorical columns\n",
    "categorical_cols = df_filled.select_dtypes(include=['object', 'category']).columns"
   ]
  },
  {
   "cell_type": "code",
   "execution_count": null,
   "id": "965cfb75-83eb-4b24-821e-373d2e885433",
   "metadata": {},
   "outputs": [],
   "source": [
    "# Convert categorical columns to one-hot encoding\n",
    "encoded_df = pd.get_dummies(df_filled, columns=categorical_cols)"
   ]
  },
  {
   "cell_type": "code",
   "execution_count": null,
   "id": "3ecc2992-fcda-4662-8b19-482b2b98360a",
   "metadata": {},
   "outputs": [],
   "source": [
    "print(encoded_df.shape)"
   ]
  },
  {
   "cell_type": "code",
   "execution_count": null,
   "id": "18d3eb3a-34f0-484e-a65a-b7e83e0e60e7",
   "metadata": {},
   "outputs": [],
   "source": [
    "# Split the dataset into features and target\n",
    "X = encoded_df.drop(columns=['price'])\n",
    "y = encoded_df['price']\n",
    "\n",
    "# Perform stratified split\n",
    "#X_train, X_test, y_train, y_test = train_test_split(X, y, test_size=0.2, stratify=X, random_state=42)\n",
    "X_train, X_test, y_train, y_test = train_test_split(X, y, test_size=0.2, random_state=42)"
   ]
  },
  {
   "cell_type": "code",
   "execution_count": null,
   "id": "f67589bf-e737-493e-881c-59254c502f19",
   "metadata": {},
   "outputs": [],
   "source": [
    "# Train the Random Forest model\n",
    "model = RandomForestRegressor(n_estimators=100, random_state=42)\n",
    "model.fit(X_train, y_train)"
   ]
  },
  {
   "cell_type": "code",
   "execution_count": null,
   "id": "00b93988-cb6e-4f22-9915-2af212f352a6",
   "metadata": {},
   "outputs": [],
   "source": [
    "# Make predictions\n",
    "y_pred = model.predict(X_test)\n",
    "\n",
    "# Calculate errors\n",
    "mae = mean_absolute_error(y_test, y_pred)\n",
    "mse = mean_squared_error(y_test, y_pred)\n",
    "rmse = np.sqrt(mse)\n",
    "\n",
    "print(f'MAE: {mae}, MSE: {mse}, RMSE: {rmse}')"
   ]
  },
  {
   "cell_type": "code",
   "execution_count": null,
   "id": "2ae818f2-f356-4447-b851-43e369cd4c4c",
   "metadata": {},
   "outputs": [],
   "source": [
    "results = pd.DataFrame({'Actual': y_test, 'Predicted': y_pred})"
   ]
  },
  {
   "cell_type": "code",
   "execution_count": null,
   "id": "9e507e98-88c4-4b76-9d69-4bf911330eb5",
   "metadata": {},
   "outputs": [],
   "source": [
    "results.describe()"
   ]
  },
  {
   "cell_type": "code",
   "execution_count": null,
   "id": "e832d805-a084-4c12-9b93-fc0723414d5f",
   "metadata": {},
   "outputs": [],
   "source": [
    "def plot_results(df_results):\n",
    "    plt.figure(figsize=(10, 6))\n",
    "    sns.scatterplot(data=df_results, x='Actual', y='Predicted', color='blue', label='Predictions')\n",
    "    sns.lineplot(x=[df_results['Actual'].min(), df_results['Actual'].max()], \n",
    "                 y=[df_results['Actual'].min(), df_results['Actual'].max()], \n",
    "                 color='red', label='Perfect Prediction', linestyle='--')\n",
    "    plt.title('Actual vs Predicted Values')\n",
    "    plt.xlabel('Actual Values')\n",
    "    plt.ylabel('Predicted Values')\n",
    "    plt.legend()\n",
    "    plt.show()\n",
    "    \n",
    "plot_results(results)"
   ]
  },
  {
   "cell_type": "code",
   "execution_count": null,
   "id": "0ef49d68-bd2d-4065-88f2-72e28ddf0145",
   "metadata": {},
   "outputs": [],
   "source": [
    "# Get feature importances\n",
    "importances = model.feature_importances_\n",
    "\n",
    "feature_importance_df = pd.DataFrame({'Feature': X.columns, 'Importance': importances})\n",
    "feature_importance_df = feature_importance_df.sort_values(by='Importance', ascending=False)"
   ]
  },
  {
   "cell_type": "code",
   "execution_count": null,
   "id": "020745e7-703c-48e2-8a8e-1662af45b753",
   "metadata": {},
   "outputs": [],
   "source": [
    "# Plot the feature importances with Seaborn\n",
    "plt.figure(figsize=(5, 10))\n",
    "sns.barplot(data=feature_importance_df, x='Importance', y='Feature', hue='Feature', palette='viridis', legend=False)\n",
    "plt.title('Feature Importances from Random Forest (with One-Hot Encoding)')\n",
    "plt.xlabel('Importance')\n",
    "plt.ylabel('Feature')\n",
    "plt.show();"
   ]
  },
  {
   "cell_type": "code",
   "execution_count": null,
   "id": "672265b5-0848-4bd4-a16d-6337d277daf7",
   "metadata": {},
   "outputs": [],
   "source": [
    "plt.figure(figsize=(20, 10))\n",
    "n_points = 300\n",
    "sns.lineplot(x=range(n_points), y=results['Predicted'][0:n_points], color='blue', label='predicted')\n",
    "sns.lineplot(x=range(n_points), y=results['Actual'][0:n_points], color='red', label='Actual')"
   ]
  },
  {
   "cell_type": "code",
   "execution_count": null,
   "id": "c48c4b11",
   "metadata": {},
   "outputs": [],
   "source": []
  }
 ],
 "metadata": {
  "kernelspec": {
   "display_name": "mlops",
   "language": "python",
   "name": "python3"
  },
  "language_info": {
   "codemirror_mode": {
    "name": "ipython",
    "version": 3
   },
   "file_extension": ".py",
   "mimetype": "text/x-python",
   "name": "python",
   "nbconvert_exporter": "python",
   "pygments_lexer": "ipython3",
   "version": "3.12.3"
  }
 },
 "nbformat": 4,
 "nbformat_minor": 5
}

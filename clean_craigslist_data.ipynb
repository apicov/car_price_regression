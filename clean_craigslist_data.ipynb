{
 "cells": [
  {
   "cell_type": "markdown",
   "id": "8cf0f57b-462a-4cc4-bc42-d4e81564f460",
   "metadata": {},
   "source": [
    "# Clean Used Cars Dataset (craigslist)\n",
    "source: https://www.kaggle.com/datasets/austinreese/craigslist-carstrucks-data?select=vehicles.csv"
   ]
  },
  {
   "cell_type": "code",
   "execution_count": null,
   "id": "3e221507",
   "metadata": {},
   "outputs": [],
   "source": [
    "import pandas as pd\n",
    "import numpy as np"
   ]
  },
  {
   "cell_type": "code",
   "execution_count": null,
   "id": "d326eb53",
   "metadata": {},
   "outputs": [],
   "source": [
    "dataset_path = '/home/pico/code/car_mini_project/vehicles_craigslist.csv'\n",
    "raw_df = pd.read_csv(dataset_path)"
   ]
  },
  {
   "cell_type": "markdown",
   "id": "6024b72a-d6fe-47eb-94b0-213ba49a222d",
   "metadata": {},
   "source": [
    "### Check stats of the features"
   ]
  },
  {
   "cell_type": "code",
   "execution_count": null,
   "id": "6e74078c",
   "metadata": {},
   "outputs": [],
   "source": [
    "raw_df.describe(include='object')"
   ]
  },
  {
   "cell_type": "markdown",
   "id": "37e22c32-cac4-483b-9c3c-141887b6424b",
   "metadata": {},
   "source": [
    "#### Notes: \n",
    "    * some categories are unbalanced (transmission, title_status, fuel)\n",
    "    * cylinders must be converted to number"
   ]
  },
  {
   "cell_type": "code",
   "execution_count": null,
   "id": "c3582a00-589e-46dc-a2de-36fd6848d17e",
   "metadata": {},
   "outputs": [],
   "source": [
    "raw_df.describe()"
   ]
  },
  {
   "cell_type": "markdown",
   "id": "9447136c-7d98-431e-ad6c-1e72f432b6de",
   "metadata": {},
   "source": [
    "### Remove unused columns"
   ]
  },
  {
   "cell_type": "code",
   "execution_count": null,
   "id": "ccb021a9-d733-4fbc-8c28-91321c264c5c",
   "metadata": {},
   "outputs": [],
   "source": [
    "cl_df = raw_df.drop(columns=['url', 'region', \n",
    "                    'region_url', 'title_status', \n",
    "                    'VIN', 'image_url', 'description', \n",
    "                    'state', 'posting_date',\n",
    "                    'id', 'county'])"
   ]
  },
  {
   "cell_type": "markdown",
   "id": "e1173e85-8a91-44cc-a520-060eddcd1cb1",
   "metadata": {},
   "source": [
    "### Check types in dataset"
   ]
  },
  {
   "cell_type": "code",
   "execution_count": null,
   "id": "cd28040f-0b1b-43c7-9e34-58e3d664cb84",
   "metadata": {},
   "outputs": [],
   "source": [
    "cl_df.dtypes"
   ]
  },
  {
   "cell_type": "markdown",
   "id": "d16ea21b-c6e6-4eb9-a6f8-5fe0cbfab734",
   "metadata": {},
   "source": [
    "Cylinders should be a number. Change data type"
   ]
  },
  {
   "cell_type": "code",
   "execution_count": null,
   "id": "ea25e41f-ca5a-45aa-b6a4-ceb1047f25be",
   "metadata": {},
   "outputs": [],
   "source": [
    "cl_df.tail()"
   ]
  },
  {
   "cell_type": "code",
   "execution_count": null,
   "id": "b8287e2a-f64b-44ec-81d7-7fbed4335995",
   "metadata": {},
   "outputs": [],
   "source": [
    "# Function to extract numeric characters and convert to int\n",
    "def extract_numeric(s):\n",
    "    if pd.isna(s):  # Check for NaN\n",
    "        return np.nan\n",
    "    numeric_str = ''.join(filter(str.isdigit, s))  # Keep only numeric characters\n",
    "    return int(numeric_str) if numeric_str else np.nan  # Convert to int or return NaN"
   ]
  },
  {
   "cell_type": "code",
   "execution_count": null,
   "id": "79e478c5-8b94-4ae9-9d55-8e85866d4408",
   "metadata": {},
   "outputs": [],
   "source": [
    "# Apply the function to the column\n",
    "cl_df['n_cylinders'] = cl_df['cylinders'].apply(extract_numeric)"
   ]
  },
  {
   "cell_type": "code",
   "execution_count": null,
   "id": "e99d7396-eb93-4e42-9f4c-e1930932db93",
   "metadata": {},
   "outputs": [],
   "source": [
    "# remove string column\n",
    "cl_df.drop(columns=['cylinders'], inplace=True)"
   ]
  },
  {
   "cell_type": "code",
   "execution_count": null,
   "id": "8413c79b-4f1d-4e4f-96a1-1ecf7cd0ac99",
   "metadata": {},
   "outputs": [],
   "source": [
    "cl_df.tail()"
   ]
  },
  {
   "cell_type": "markdown",
   "id": "075c3832-aaa2-4b3e-bfa0-54a276084038",
   "metadata": {},
   "source": [
    "### Show counts of categorical variables"
   ]
  },
  {
   "cell_type": "code",
   "execution_count": null,
   "id": "bbd0519c-380d-4674-a0ff-55ca6b0632cf",
   "metadata": {},
   "outputs": [],
   "source": [
    "# Show counts for all categorical features\n",
    "for col in cl_df.select_dtypes(include=['category', 'object']).columns:\n",
    "    print(f\"Counts for {col}:\")\n",
    "    print(cl_df[col].value_counts())\n",
    "    print()"
   ]
  },
  {
   "cell_type": "markdown",
   "id": "5f86b12d-7e37-4a11-93b4-b0fe1bf86ec8",
   "metadata": {},
   "source": [
    "### Check outliers"
   ]
  },
  {
   "cell_type": "code",
   "execution_count": null,
   "id": "252febab-3c3a-4057-a044-dfca4fbce303",
   "metadata": {},
   "outputs": [],
   "source": [
    "import seaborn as sns\n",
    "import matplotlib.pyplot as plt\n",
    "\n",
    "def draw_boxplots(df):\n",
    "    # Set the style of seaborn\n",
    "    sns.set(style=\"whitegrid\")\n",
    "    \n",
    "    # Select only numeric features\n",
    "    numeric_features = df.select_dtypes(include=['number']).columns\n",
    "    \n",
    "    # Determine the number of rows and columns for the grid\n",
    "    n_features = len(numeric_features)\n",
    "    n_cols = 3  # Number of columns in the grid\n",
    "    n_rows = int(np.ceil(n_features / n_cols))  # Calculate number of rows needed\n",
    "    \n",
    "    # Create a grid of boxplots\n",
    "    fig, axes = plt.subplots(n_rows, n_cols, figsize=(15, 5 * n_rows))  # Adjust the figure size as needed\n",
    "    axes = axes.flatten()  # Flatten the axes array for easy indexing\n",
    "    \n",
    "    # Loop through each numeric feature and create a boxplot\n",
    "    for i, column in enumerate(numeric_features):\n",
    "        sns.boxplot(y=df[column], ax=axes[i])\n",
    "        axes[i].set_title(column)\n",
    "    \n",
    "    # Hide any unused subplots\n",
    "    for j in range(i + 1, n_rows * n_cols):\n",
    "        fig.delaxes(axes[j])\n",
    "    \n",
    "    plt.tight_layout()  # Adjust layout to prevent overlap"
   ]
  },
  {
   "cell_type": "code",
   "execution_count": null,
   "id": "79a1db98-1ccb-4821-a6f0-1af279a98f5a",
   "metadata": {},
   "outputs": [],
   "source": [
    "cl_df.shape"
   ]
  },
  {
   "cell_type": "code",
   "execution_count": null,
   "id": "5c6ae1c5-863a-4bdb-b798-d3bc0f1aff13",
   "metadata": {},
   "outputs": [],
   "source": [
    "draw_boxplots(cl_df)"
   ]
  },
  {
   "cell_type": "code",
   "execution_count": null,
   "id": "8d9d947e-be2b-4857-8f0a-af11b9dfa2c9",
   "metadata": {},
   "outputs": [],
   "source": [
    "# Function to count outliers based on IQR\n",
    "def count_outliers(df):\n",
    "    outlier_counts = {}\n",
    "    \n",
    "    # Loop through each numerical feature\n",
    "    for column in df.select_dtypes(include=['number']).columns:\n",
    "        # Calculate Q1 (25th percentile) and Q3 (75th percentile)\n",
    "        Q1 = df[column].quantile(0.25)\n",
    "        Q3 = df[column].quantile(0.75)\n",
    "        \n",
    "        # Calculate IQR\n",
    "        IQR = Q3 - Q1\n",
    "        \n",
    "        # Determine lower and upper bounds\n",
    "        lower_bound = Q1 - 1.5 * IQR\n",
    "        upper_bound = Q3 + 1.5 * IQR\n",
    "        \n",
    "        # Count outliers\n",
    "        outlier_count = df[(df[column] < lower_bound) | (df[column] > upper_bound)].shape[0]\n",
    "        outlier_counts[column] = outlier_count\n",
    "    \n",
    "    return outlier_counts\n",
    "\n",
    "# Count outliers\n",
    "outliers = count_outliers(cl_df)\n",
    "\n",
    "# Display the number of outliers for each feature\n",
    "print(\"Number of outliers in each feature:\")\n",
    "for feature, count in outliers.items():\n",
    "    print(f\"{feature}: {count}\")"
   ]
  },
  {
   "cell_type": "markdown",
   "id": "494adc37-00e0-4636-9dc6-ae6dab72d91b",
   "metadata": {},
   "source": [
    "### Remove Outliers"
   ]
  },
  {
   "cell_type": "code",
   "execution_count": null,
   "id": "d64cb182-2eb2-4df0-b5f7-00a25dab575c",
   "metadata": {},
   "outputs": [],
   "source": [
    "# Function to remove outliers based on interquartile range (IQR) \n",
    "def remove_outliers(df):\n",
    "    # Create a copy of the DataFrame to avoid modifying the original\n",
    "    df_cleaned = df.copy()\n",
    "    \n",
    "    # Loop through each numerical feature\n",
    "    for column in df_cleaned.select_dtypes(include=['number']).columns:\n",
    "        # Calculate Q1 (25th percentile) and Q3 (75th percentile)\n",
    "        Q1 = df_cleaned[column].quantile(0.25)\n",
    "        Q3 = df_cleaned[column].quantile(0.75)\n",
    "        \n",
    "        # Calculate IQR\n",
    "        IQR = Q3 - Q1\n",
    "        \n",
    "        # Determine lower and upper bounds\n",
    "        lower_bound = Q1 - 1.5 * IQR\n",
    "        upper_bound = Q3 + 1.5 * IQR\n",
    "        \n",
    "        # Filter the DataFrame to remove outliers\n",
    "        no = df_cleaned[(df_cleaned[column] >= lower_bound) & (df_cleaned[column] <= upper_bound)].shape[0]\n",
    "        print(f'{column}: {no}')\n",
    "        df_cleaned = df_cleaned[(df_cleaned[column] >= lower_bound) & (df_cleaned[column] <= upper_bound)]\n",
    "    \n",
    "    return df_cleaned"
   ]
  },
  {
   "cell_type": "code",
   "execution_count": null,
   "id": "8b12720c-258c-489b-99fc-7a6fee32fdd6",
   "metadata": {},
   "outputs": [],
   "source": [
    "no_df = remove_outliers(cl_df)"
   ]
  },
  {
   "cell_type": "code",
   "execution_count": null,
   "id": "697c9313-c59e-43ae-a026-034a97208826",
   "metadata": {},
   "outputs": [],
   "source": [
    "no_df.shape"
   ]
  },
  {
   "cell_type": "code",
   "execution_count": null,
   "id": "c40e5401-f6c5-4bcc-b8eb-9e1f95251d99",
   "metadata": {},
   "outputs": [],
   "source": [
    "draw_boxplots(no_df)"
   ]
  },
  {
   "cell_type": "code",
   "execution_count": null,
   "id": "2a048787-0fb7-4c3f-b637-bec00d70a318",
   "metadata": {},
   "outputs": [],
   "source": []
  },
  {
   "cell_type": "markdown",
   "id": "dcb0a3d4-6f46-4f81-adb5-3187ad35eabc",
   "metadata": {},
   "source": [
    "### Check NaNs"
   ]
  },
  {
   "cell_type": "code",
   "execution_count": null,
   "id": "f48fe416",
   "metadata": {},
   "outputs": [],
   "source": [
    "cl_df.isna().sum().sort_values(ascending=False)"
   ]
  },
  {
   "cell_type": "code",
   "execution_count": null,
   "id": "0ec2e5dd-6e58-4d71-b143-b8cc3fa31f2a",
   "metadata": {},
   "outputs": [],
   "source": [
    "# First fast approach\n",
    "# Remove rows that contain any NaN values\n",
    "cl_df = cl_df.dropna()\n",
    "\n",
    "# Remove model column (there are too many)\n",
    "cl_df = cl_df.drop(columns=['model'])"
   ]
  },
  {
   "cell_type": "code",
   "execution_count": null,
   "id": "c6c91c6b-3058-4aee-a17f-a1bc5320a432",
   "metadata": {},
   "outputs": [],
   "source": [
    "cl_df.shape"
   ]
  },
  {
   "cell_type": "markdown",
   "id": "b1e59d0b-9c6c-43cd-bbe6-39bd4281e0ad",
   "metadata": {},
   "source": [
    "## Create first random forest model to check feature importance"
   ]
  },
  {
   "cell_type": "code",
   "execution_count": null,
   "id": "0ce34e60-aac4-48b5-a6b7-6bc2e7c7d0e2",
   "metadata": {},
   "outputs": [],
   "source": [
    "from sklearn.ensemble import RandomForestRegressor\n",
    "from sklearn.model_selection import train_test_split\n",
    "from sklearn.metrics import mean_absolute_error, mean_squared_error"
   ]
  },
  {
   "cell_type": "markdown",
   "id": "3195dac1-c0b8-4b65-a9af-0c42b2f4382c",
   "metadata": {},
   "source": [
    "### One hot encoding for categrical features"
   ]
  },
  {
   "cell_type": "code",
   "execution_count": null,
   "id": "33930bbf-aad0-4e41-84af-2153f002f4cc",
   "metadata": {},
   "outputs": [],
   "source": [
    "# Identify categorical columns\n",
    "categorical_cols = cl_df.select_dtypes(include=['object', 'category']).columns"
   ]
  },
  {
   "cell_type": "code",
   "execution_count": null,
   "id": "965cfb75-83eb-4b24-821e-373d2e885433",
   "metadata": {},
   "outputs": [],
   "source": [
    "# Convert categorical columns to one-hot encoding\n",
    "encoded_df = pd.get_dummies(cl_df, columns=categorical_cols)"
   ]
  },
  {
   "cell_type": "code",
   "execution_count": null,
   "id": "3ecc2992-fcda-4662-8b19-482b2b98360a",
   "metadata": {},
   "outputs": [],
   "source": [
    "encoded_df.shape"
   ]
  },
  {
   "cell_type": "code",
   "execution_count": null,
   "id": "18d3eb3a-34f0-484e-a65a-b7e83e0e60e7",
   "metadata": {},
   "outputs": [],
   "source": [
    "# Split the dataset into features and target\n",
    "X = encoded_df.drop(columns=['price'])\n",
    "y = encoded_df['price']\n",
    "\n",
    "# Perform stratified split\n",
    "#X_train, X_test, y_train, y_test = train_test_split(X, y, test_size=0.2, stratify=X, random_state=42)\n",
    "X_train, X_test, y_train, y_test = train_test_split(X, y, test_size=0.2, random_state=42)"
   ]
  },
  {
   "cell_type": "code",
   "execution_count": null,
   "id": "f67589bf-e737-493e-881c-59254c502f19",
   "metadata": {},
   "outputs": [],
   "source": [
    "# Train the Random Forest model\n",
    "model = RandomForestRegressor(n_estimators=100, random_state=42)\n",
    "model.fit(X_train, y_train)"
   ]
  },
  {
   "cell_type": "code",
   "execution_count": null,
   "id": "00b93988-cb6e-4f22-9915-2af212f352a6",
   "metadata": {},
   "outputs": [],
   "source": [
    "# Make predictions\n",
    "y_pred = model.predict(X_test)\n",
    "\n",
    "# Calculate errors\n",
    "mae = mean_absolute_error(y_test, y_pred)\n",
    "mse = mean_squared_error(y_test, y_pred)\n",
    "rmse = np.sqrt(mse)\n",
    "\n",
    "print(f'MAE: {mae}, MSE: {mse}, RMSE: {rmse}')"
   ]
  },
  {
   "cell_type": "code",
   "execution_count": null,
   "id": "ee0b8843-15b8-41e5-ab1b-2f327d0d92e3",
   "metadata": {},
   "outputs": [],
   "source": [
    "y_pred"
   ]
  },
  {
   "cell_type": "code",
   "execution_count": null,
   "id": "dd0e19a9-b8cb-43c6-8b4b-6cfd46be95d5",
   "metadata": {},
   "outputs": [],
   "source": [
    "abs(y_test - y_pred).sum() / y_test.shape[0]"
   ]
  },
  {
   "cell_type": "code",
   "execution_count": null,
   "id": "0f28c9ee-306e-4415-810c-863a60ee84ef",
   "metadata": {},
   "outputs": [],
   "source": [
    "y_test.shape"
   ]
  },
  {
   "cell_type": "code",
   "execution_count": null,
   "id": "2ae818f2-f356-4447-b851-43e369cd4c4c",
   "metadata": {},
   "outputs": [],
   "source": []
  },
  {
   "cell_type": "code",
   "execution_count": null,
   "id": "9e507e98-88c4-4b76-9d69-4bf911330eb5",
   "metadata": {},
   "outputs": [],
   "source": []
  },
  {
   "cell_type": "code",
   "execution_count": null,
   "id": "e832d805-a084-4c12-9b93-fc0723414d5f",
   "metadata": {},
   "outputs": [],
   "source": []
  },
  {
   "cell_type": "code",
   "execution_count": null,
   "id": "b85683cb-aafc-40c0-947e-512ba5bbd43f",
   "metadata": {},
   "outputs": [],
   "source": [
    "cl_df['drive'].value_counts()"
   ]
  },
  {
   "cell_type": "code",
   "execution_count": null,
   "id": "4c00da83-4420-4b54-b8a4-e034e4f39bbd",
   "metadata": {},
   "outputs": [],
   "source": [
    "cl_df['model'].value_counts()"
   ]
  },
  {
   "cell_type": "code",
   "execution_count": null,
   "id": "365989bd-8a90-4ca2-9b45-0b10ad3e7e63",
   "metadata": {},
   "outputs": [],
   "source": [
    "#for i in cl_df['model'].unique():\n",
    "#    print(i)"
   ]
  },
  {
   "cell_type": "code",
   "execution_count": null,
   "id": "c52200bd",
   "metadata": {},
   "outputs": [],
   "source": [
    "v_df = pd.read_csv('/home/pico/code/car_mini_project/all-vehicles-model.csv', delimiter=';')\n",
    "v_df.columns"
   ]
  },
  {
   "cell_type": "code",
   "execution_count": null,
   "id": "69dfa5a7",
   "metadata": {},
   "outputs": [],
   "source": [
    "v_df.describe(include='all')"
   ]
  },
  {
   "cell_type": "code",
   "execution_count": null,
   "id": "11142c6d",
   "metadata": {},
   "outputs": [],
   "source": [
    "cl_df['manufacturer'].unique()"
   ]
  },
  {
   "cell_type": "code",
   "execution_count": null,
   "id": "4987a263-8d6f-4b3b-b7dc-03e7bf0d4b4e",
   "metadata": {},
   "outputs": [],
   "source": [
    "cl_df.isna().sum()"
   ]
  },
  {
   "cell_type": "code",
   "execution_count": null,
   "id": "984623cb-0a4b-4727-87b1-f06c8dc9bdfb",
   "metadata": {},
   "outputs": [],
   "source": [
    "cl_df[cl_df['manufacturer'].isna()]"
   ]
  },
  {
   "cell_type": "code",
   "execution_count": null,
   "id": "8cb3d9d8-985a-4684-9fe6-bd4fc5f4e38a",
   "metadata": {},
   "outputs": [],
   "source": [
    "v_df['Make'].unique()"
   ]
  },
  {
   "cell_type": "code",
   "execution_count": null,
   "id": "313c84a8-22b1-492f-8dc5-6194d0bf3393",
   "metadata": {},
   "outputs": [],
   "source": [
    "cl_df[ cl_df['manufacturer'] == 'ford']"
   ]
  },
  {
   "cell_type": "code",
   "execution_count": null,
   "id": "76c523b6-97f7-4d3c-822d-86f72774757e",
   "metadata": {},
   "outputs": [],
   "source": [
    "v_df[ v_df['Make'] == 'Ford']"
   ]
  },
  {
   "cell_type": "code",
   "execution_count": null,
   "id": "13257acb-b836-4c8f-90ae-1aa68ee64686",
   "metadata": {},
   "outputs": [],
   "source": []
  }
 ],
 "metadata": {
  "kernelspec": {
   "display_name": "Python 3 (ipykernel)",
   "language": "python",
   "name": "python3"
  },
  "language_info": {
   "codemirror_mode": {
    "name": "ipython",
    "version": 3
   },
   "file_extension": ".py",
   "mimetype": "text/x-python",
   "name": "python",
   "nbconvert_exporter": "python",
   "pygments_lexer": "ipython3",
   "version": "3.12.3"
  }
 },
 "nbformat": 4,
 "nbformat_minor": 5
}
